{
 "cells": [
  {
   "cell_type": "markdown",
   "metadata": {},
   "source": [
    "Exercise 1. Ask for a color and store that answer. \n",
    "If the answer is grey then print out you found Victor's favorite color.\n",
    "Otherwise print out the color is not Victor's favorite color."
   ]
  },
  {
   "cell_type": "code",
   "execution_count": 14,
   "metadata": {},
   "outputs": [
    {
     "name": "stdout",
     "output_type": "stream",
     "text": [
      "Enter color: Grey\n",
      "Grey is Victor's favorite color \n"
     ]
    }
   ],
   "source": [
    "instr=input(\"Enter color: \")\n",
    "color=instr.lower()\n",
    "pstr=color.capitalize()\n",
    "if color == \"grey\":\n",
    "    print(f\"{pstr} is Victor's favorite color \")\n",
    "else:\n",
    "    print(f\"{pstr} is not Victor's favorite color\")"
   ]
  },
  {
   "cell_type": "markdown",
   "metadata": {},
   "source": [
    "Exercise 2. Modify code from above exercise 1 and add in more conditions for other colors such as red, green, blue and then, write statements for them. "
   ]
  },
  {
   "cell_type": "code",
   "execution_count": 18,
   "metadata": {},
   "outputs": [
    {
     "name": "stdout",
     "output_type": "stream",
     "text": [
      "Enter color: yellow\n",
      "Victor, Ginger, Mary and Tim do not like yellow\n"
     ]
    }
   ],
   "source": [
    "instr=input(\"Enter color: \")\n",
    "color=instr.lower()\n",
    "pstr=color.capitalize()\n",
    "if color == \"grey\":\n",
    "    print(f\"{pstr} is Victor's favorite color \")\n",
    "elif color == \"red\":\n",
    "    print(f\"{pstr} is Ginger's favorite color \")\n",
    "    \n",
    "else:\n",
    "#    print(f\"{color} is not Victor's favorite color\")\n",
    "    if color == \"green\":\n",
    "        print(f\"{pstr} is Mary's favorite color\")\n",
    "    elif color == \"blue\":\n",
    "        print(f\"{pstr} is Tim's favorite color\")\n",
    "    else:\n",
    "        print(f\"Victor, Ginger, Mary and Tim do not like {color}\")"
   ]
  },
  {
   "cell_type": "markdown",
   "metadata": {},
   "source": [
    "Exercise 3. Ask for an exam score and store that number. If the number is greater than 100, then print out 'You cannot have an exam score higher than 100'. If the number doesn't exceeed 100 but is greater than or equal to 75, then print out 'You did great on your exam!'. Otherwise if they scored lower than 75, then print out 'You need to study harder'."
   ]
  },
  {
   "cell_type": "code",
   "execution_count": 10,
   "metadata": {},
   "outputs": [
    {
     "name": "stdout",
     "output_type": "stream",
     "text": [
      "Enter your score: 65\n",
      "You need to study harder\n"
     ]
    }
   ],
   "source": [
    "score=int(input(\"Enter your score: \"))\n",
    "if score > 100:\n",
    "    print('You cannot have an exam score higher than 100.' )\n",
    "elif score <=75:\n",
    "    print(\"You need to study harder\")\n",
    "else:\n",
    "    print(\"You did great on your exam!\")"
   ]
  },
  {
   "cell_type": "markdown",
   "metadata": {},
   "source": [
    "Exercise 4. \n",
    "Define two functions: \n",
    "    - a function that takes 3 arguements and returns the sum of three arguements\n",
    "    - a function that takes 2 arguements and returns the result of 1st arguement multiplied by 2nd arguement\n",
    "\n",
    "Then tell the user to choose option 1 to add three numbers or option 2 to multiply two numbers.\n",
    "If the user choose option 1 then call the addition function, otherwise if they choose option 2 then call the mulitplication function.  If the user choose anything other than option 1 or 2, then generate a friendly error messsage"
   ]
  },
  {
   "cell_type": "code",
   "execution_count": 22,
   "metadata": {},
   "outputs": [
    {
     "name": "stdout",
     "output_type": "stream",
     "text": [
      "Please enter operation 1 or 2;3\n",
      "ERROR\n"
     ]
    }
   ],
   "source": [
    "\n",
    "def add(n1,n2,n3):\n",
    "    return n1+n2+n3\n",
    "def mult(a,b):\n",
    "    return a*b\n",
    "operation=input(\"Please enter operation 1 or 2;\")\n",
    "if operation == \"1\":\n",
    "    num1=int(input(\"Enter the first number:\"))\n",
    "    num2=int(input(\"Enter the second number:\"))\n",
    "    num3=int(input(\"Enter the third number:\"))\n",
    "    r1=add(num1,num2,num3)\n",
    "    print(f\"Add three numbers is {r1}.\")\n",
    "elif operation==\"2\":\n",
    "    num1=int(input(\"Enter the first number:\"))\n",
    "    num2=int(input(\"Enter the second number:\"))\n",
    "    r1=mult(num1,num2)\n",
    "    print(f\"Multple two menbers is {r1}\")\n",
    "else:\n",
    "    print(\"ERROR\")\n",
    "    \n"
   ]
  },
  {
   "cell_type": "markdown",
   "metadata": {},
   "source": [
    "Exercise 5. \n",
    "Write a function to convert a test score to a grade where  \n",
    " - 90 - 100: A\n",
    " - 80 - 89:  B\n",
    " - 70 - 79:  C\n",
    " - 60 - 69:  D\n",
    " - < 60   :  F\n",
    " \n",
    "If a score is not between 0 and 100 then print out an error message. In the program, ask the user for a score and then call your function. "
   ]
  },
  {
   "cell_type": "code",
   "execution_count": 31,
   "metadata": {},
   "outputs": [
    {
     "name": "stdout",
     "output_type": "stream",
     "text": [
      "Enter your score: 88\n",
      "Here is your grade: B\n"
     ]
    }
   ],
   "source": [
    "def grade(score):\n",
    "    if score < 60:\n",
    "        grade = \"F\"\n",
    "    elif score >= 60 and score <70:\n",
    "        grade= \"D\"\n",
    "    elif score >= 70 and score < 80:\n",
    "        grade = \"c\"\n",
    "    elif score >= 80 and score < 90:\n",
    "        grade = \"B\"\n",
    "    elif score >=90 and score <=100:\n",
    "        grade = \"A\"\n",
    "    else:\n",
    "        print(\"error\")\n",
    "    return grade \n",
    "uscore=int(input(\"Enter your score: \"))\n",
    "ugrade=grade(uscore)\n",
    "print(f\"Here is your grade: {ugrade}\")"
   ]
  },
  {
   "cell_type": "markdown",
   "metadata": {},
   "source": [
    "Exercise 6. Write a program to compute discounts for customers.  \n",
    "- For retail customers, \n",
    "    - if invoice total is greater than \\$100 then discount rate is 10\\%, otherwise no discount \n",
    "\n",
    "- For wholesale customers,\n",
    "    - if invoice total is greater than \\$500 then discount rate is 30\\%, otherwise discount rate is 20\\%\n",
    "    \n",
    "Get the type of customer and the invoice total from the user."
   ]
  },
  {
   "cell_type": "code",
   "execution_count": 42,
   "metadata": {},
   "outputs": [
    {
     "name": "stdout",
     "output_type": "stream",
     "text": [
      "Wholesale or Retail? retail\n",
      "Enter your total of invoice: 10\n",
      "Retail with $10 total has 0% discount rate.\n"
     ]
    }
   ],
   "source": [
    "def discount(customer,invoice):\n",
    "    if customer == \"wholesale\":\n",
    "        if invoice > 500:\n",
    "            discount=30\n",
    "            \n",
    "        else:\n",
    "            discount=20\n",
    "            \n",
    "    elif customer == \"retail\":\n",
    "        if invoice > 100:\n",
    "            discount=10\n",
    "            \n",
    "        else:\n",
    "            discount=0\n",
    "            \n",
    "    else:\n",
    "        print(\"Error\")\n",
    "    return discount\n",
    "ctype=input(\"Wholesale or Retail? \")\n",
    "ltype=ctype.lower()\n",
    "ctype=ltype.capitalize()\n",
    "ctotal=int(input(\"Enter your total of invoice: \"))\n",
    "mydiscount=discount(ltype,ctotal)\n",
    "print(f\"{ctype} with ${ctotal} total has {mydiscount}% discount rate.\" )"
   ]
  },
  {
   "cell_type": "markdown",
   "metadata": {},
   "source": [
    "Exercise 7: Write a function that accepts two parameters (a and b) and returns a result of a/b.  In this function, try to catch any exception error.  Then, write a program to get two numbers from a user, call your function using these two numbers, and print out the result in a friendly format.  All input and print statements must be done in the main program. Repeat the process until user wants to quit the program. "
   ]
  },
  {
   "cell_type": "code",
   "execution_count": 55,
   "metadata": {},
   "outputs": [
    {
     "name": "stdout",
     "output_type": "stream",
     "text": [
      "Enter an number: 299\n",
      "Enter another number: 12\n",
      "The result of 299.0 divite by 12.0 is 24.92.\n",
      "Do you want to play again? (Hint: 'y/n')y\n",
      "Enter an number: 480\n",
      "Enter another number: -3\n",
      "The result of 480.0 divite by -3.0 is -160.00.\n",
      "Do you want to play again? (Hint: 'y/n')y\n",
      "Enter an number: 3.0\n",
      "Enter another number: 0\n",
      "Here is an error. The second number can not be zero \n",
      "Do you want to play again? (Hint: 'y/n')n\n",
      "Goodbye\n"
     ]
    }
   ],
   "source": [
    "def myfunction(a,b):\n",
    "    return a/b\n",
    "choice=\"y\"\n",
    "while (choice.lower()==\"y\"):\n",
    "    num1=float(input(\"Enter an number: \"))\n",
    "    num2=float(input(\"Enter another number: \"))\n",
    "    if num2==0:\n",
    "        print(\"Here is an error. The second number can not be zero \")\n",
    "#    break\n",
    "    else:\n",
    "        num=myfunction(num1,num2)\n",
    "        print(f\"The result of {num1} divite by {num2} is {num:.2f}.\")\n",
    "    choice=input(\"Do you want to play again? (Hint: 'y/n')\")\n",
    "print(\"Goodbye\")"
   ]
  },
  {
   "cell_type": "code",
   "execution_count": null,
   "metadata": {},
   "outputs": [],
   "source": [
    "\n"
   ]
  },
  {
   "cell_type": "markdown",
   "metadata": {},
   "source": [
    "Exercise 8: Write a function to generate a multiplication table. Then write a program to ask a user if user wants to generate a  mutiplication table for a random number or provide a number. The program should continue to run until a user wants to quit."
   ]
  },
  {
   "cell_type": "code",
   "execution_count": 65,
   "metadata": {},
   "outputs": [
    {
     "name": "stdout",
     "output_type": "stream",
     "text": [
      "Enter an integer: 8\n",
      "8 x 1 = 8\n",
      "8 x 2 = 16\n",
      "8 x 3 = 24\n",
      "8 x 4 = 32\n",
      "8 x 5 = 40\n",
      "8 x 6 = 48\n",
      "Do you want provide an integer again? (y/n)y\n",
      "Enter an integer: \n"
     ]
    },
    {
     "ename": "ValueError",
     "evalue": "invalid literal for int() with base 10: ''",
     "output_type": "error",
     "traceback": [
      "\u001b[0;31m---------------------------------------------------------------------------\u001b[0m",
      "\u001b[0;31mValueError\u001b[0m                                Traceback (most recent call last)",
      "\u001b[0;32m<ipython-input-65-27513c6e3f05>\u001b[0m in \u001b[0;36m<module>\u001b[0;34m\u001b[0m\n\u001b[1;32m     18\u001b[0m \u001b[0mchoice\u001b[0m\u001b[0;34m=\u001b[0m\u001b[0;34m\"y\"\u001b[0m\u001b[0;34m\u001b[0m\u001b[0;34m\u001b[0m\u001b[0m\n\u001b[1;32m     19\u001b[0m \u001b[0;32mwhile\u001b[0m \u001b[0;34m(\u001b[0m\u001b[0mchoice\u001b[0m\u001b[0;34m==\u001b[0m\u001b[0;34m\"y\"\u001b[0m\u001b[0;34m)\u001b[0m \u001b[0;32mor\u001b[0m \u001b[0;34m(\u001b[0m\u001b[0mchoice\u001b[0m\u001b[0;34m==\u001b[0m\u001b[0;34m\"Y\"\u001b[0m\u001b[0;34m)\u001b[0m\u001b[0;34m:\u001b[0m\u001b[0;34m\u001b[0m\u001b[0;34m\u001b[0m\u001b[0m\n\u001b[0;32m---> 20\u001b[0;31m     \u001b[0mval1\u001b[0m\u001b[0;34m=\u001b[0m\u001b[0mint\u001b[0m\u001b[0;34m(\u001b[0m\u001b[0minput\u001b[0m\u001b[0;34m(\u001b[0m\u001b[0;34m\"Enter an integer: \"\u001b[0m\u001b[0;34m)\u001b[0m\u001b[0;34m)\u001b[0m\u001b[0;34m\u001b[0m\u001b[0;34m\u001b[0m\u001b[0m\n\u001b[0m\u001b[1;32m     21\u001b[0m \u001b[0;31m#    if(check_integer(val1) == True):\u001b[0m\u001b[0;34m\u001b[0m\u001b[0;34m\u001b[0m\u001b[0;34m\u001b[0m\u001b[0m\n\u001b[1;32m     22\u001b[0m \u001b[0;31m#        continue\u001b[0m\u001b[0;34m\u001b[0m\u001b[0;34m\u001b[0m\u001b[0;34m\u001b[0m\u001b[0m\n",
      "\u001b[0;31mValueError\u001b[0m: invalid literal for int() with base 10: ''"
     ]
    }
   ],
   "source": [
    "import random as r\n",
    "def check_integer(num1):\n",
    "    try:\n",
    "        ret_val=int(num1)\n",
    "        ret_val=True\n",
    "    except:\n",
    "        print(f\"****ERROR: {num1} is not an integer\")\n",
    "        ret_val=False\n",
    "    return ret_val\n",
    "def multable(a=r.random()):\n",
    "    print(f\"{a} x 1 = {a*1}\")\n",
    "    print(f\"{a} x 2 = {a*2}\")\n",
    "    print(f\"{a} x 3 = {a*3}\")\n",
    "    print(f\"{a} x 4 = {a*4}\")\n",
    "    print(f\"{a} x 5 = {a*5}\")\n",
    "    print(f\"{a} x 6 = {a*6}\")\n",
    "#    return a*b\n",
    "choice=\"y\"\n",
    "while (choice==\"y\") or (choice==\"Y\"):\n",
    "    val1=int(input(\"Enter an integer: \"))\n",
    "#    if(check_integer(val1) == True):\n",
    "#        continue\n",
    "    mul=multable(val1)\n",
    "#    else:\n",
    "#        val1=r.random()\n",
    "#    print(f\"{val1} is an random integer\")\n",
    "#        break\n",
    "#        mul=multable(val1)\n",
    "#    print(f\"{val1} x {val2} = {mul})\n",
    "    choice=input(\"Do you want provide an integer again? (y/n)\")\n",
    "print(\"Goodbye\")\n",
    "    "
   ]
  },
  {
   "cell_type": "code",
   "execution_count": null,
   "metadata": {},
   "outputs": [],
   "source": []
  },
  {
   "cell_type": "markdown",
   "metadata": {},
   "source": [
    "Exercise 9: Write a function to draw a right-triangle using a number as a character.Then, write a program to generate a random number between 1 and 9, call your function with that random number.  The output should look something like this:\n",
    "\n",
    "        base: 5\n",
    "        5\n",
    "        55\n",
    "        555\n",
    "        5555\n",
    "        55555\n",
    "\n",
    "\n",
    "        base: 8\n",
    "        8\n",
    "        88\n",
    "        888\n",
    "        8888\n",
    "        88888\n",
    "        888888\n",
    "        8888888\n",
    "        88888888"
   ]
  },
  {
   "cell_type": "code",
   "execution_count": 69,
   "metadata": {},
   "outputs": [
    {
     "name": "stdout",
     "output_type": "stream",
     "text": [
      "Enter a integer:8\n",
      "base: 8\n",
      "8\n",
      "88\n",
      "888\n",
      "8888\n",
      "88888\n",
      "888888\n",
      "8888888\n",
      "88888888\n"
     ]
    }
   ],
   "source": [
    "def mystr(num):\n",
    "    a=int(num)\n",
    "    b=1\n",
    "    while (b<=a):\n",
    "        print(num*b)\n",
    "        b+=1\n",
    "base=input(\"Enter a integer:\")\n",
    "print(\"base:\",base)\n",
    "mystr(base)\n",
    "    "
   ]
  },
  {
   "cell_type": "code",
   "execution_count": null,
   "metadata": {},
   "outputs": [],
   "source": []
  },
  {
   "cell_type": "markdown",
   "metadata": {},
   "source": [
    "Exercise 10: Modify function from exercise 9 to show output like this:\n",
    "\n",
    "        base: 5\n",
    "            5\n",
    "           55\n",
    "          555\n",
    "         5555 \n",
    "        55555\n",
    "        \n",
    "        base: 8\n",
    "               8\n",
    "              88\n",
    "             888\n",
    "            8888\n",
    "           88888\n",
    "          888888\n",
    "         8888888\n",
    "        88888888 "
   ]
  },
  {
   "cell_type": "code",
   "execution_count": 71,
   "metadata": {},
   "outputs": [
    {
     "name": "stdout",
     "output_type": "stream",
     "text": [
      "Enter a integer:8\n",
      "base: 8\n",
      "        8\n",
      "       88\n",
      "      888\n",
      "     8888\n",
      "    88888\n",
      "   888888\n",
      "  8888888\n",
      " 88888888\n"
     ]
    }
   ],
   "source": [
    "def mystr(num):\n",
    "    a=int(num)\n",
    "    b=1\n",
    "    \n",
    "    while (b<=a):\n",
    "        c=a-b\n",
    "        d=\" \"\n",
    "        print(d*c,num*b)\n",
    "        b+=1\n",
    "base=input(\"Enter a integer:\")\n",
    "print(\"base:\",base)\n",
    "mystr(base)"
   ]
  },
  {
   "cell_type": "code",
   "execution_count": null,
   "metadata": {},
   "outputs": [],
   "source": []
  }
 ],
 "metadata": {
  "kernelspec": {
   "display_name": "Python 3",
   "language": "python",
   "name": "python3"
  },
  "language_info": {
   "codemirror_mode": {
    "name": "ipython",
    "version": 3
   },
   "file_extension": ".py",
   "mimetype": "text/x-python",
   "name": "python",
   "nbconvert_exporter": "python",
   "pygments_lexer": "ipython3",
   "version": "3.8.8"
  }
 },
 "nbformat": 4,
 "nbformat_minor": 4
}
